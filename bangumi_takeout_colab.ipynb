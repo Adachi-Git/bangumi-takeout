{
  "nbformat": 4,
  "nbformat_minor": 0,
  "metadata": {
    "colab": {
      "name": "bangumi-takeout.ipynb",
      "provenance": [],
      "collapsed_sections": []
    },
    "kernelspec": {
      "name": "python3",
      "display_name": "Python 3"
    },
    "language_info": {
      "name": "python"
    }
  },
  "cells": [
    {
      "cell_type": "markdown",
      "source": [
        "# Bangumi Takeout\n",
        "\n",
        "项目主页：[jerrylususu/bangmui-takeout-py](https://github.com/jerrylususu/bangumi-takeout-py)\n",
        "\n",
        "请点击菜单栏「代码执行程序 - 全部运行」，随后卷动到页面底部，点击认证链接并选择「允许」，将下一个页面中的 `access_token` 复制到页面底部的表单中 Token 填写处，然后选择数据源，最后点击「Run」以启动导出过程。\n",
        "\n",
        "表单可能需要稍等一会才会显示（需要等待运行时分配，进度会在右上角显示），请耐心等待，最长应该不会超过一分钟。\n",
        "\n",
        "如无特殊需求，数据源建议保持默认的「Bangumi Archive」以减小对服务器的压力。关于两个数据源之间的差异，请参见本项目主页的「数据源」一节。\n",
        "\n",
        "执行完成后会自动触发 `takeout.json` 和 `takeout.html` 的下载，也可以从左侧文件侧边栏（最后一个图标）中手动下载。如果浏览器提示「下载多个文件」，请选择允许。"
      ],
      "metadata": {
        "id": "fcnBDMVgWGor"
      }
    },
    {
      "cell_type": "code",
      "source": [
        "from ipywidgets import interact, widgets\n",
        "from IPython.display import display\n",
        "import json\n",
        "from google.colab import files\n",
        "\n",
        "token_html = widgets.HTML(value='<a href=\"https://api.bgm.tv/v0/oauth/redirect\" target=\"_blank\">Click here to generate access_token.</a>')\n",
        "display(token_html)\n",
        "\n",
        "text = widgets.Text(value='',placeholder='Paste access_token here!',description='Token:',disabled=False)\n",
        "display(text)\n",
        "\n",
        "select = widgets.Dropdown(options=['Bangumi API', 'Bangumi Archive'],value='Bangumi Archive',description='Source:',disabled=False,)\n",
        "display(select)\n",
        "\n",
        "button = widgets.Button(tooltip='Run',description=\"Run\")\n",
        "display(button)\n",
        "\n",
        "def callback(wdgt):\n",
        "    !git clone https://github.com/jerrylususu/bangumi-takeout-py\n",
        "    !pip install requests tqdm\n",
        "    !mv bangumi-takeout-py/* .\n",
        "    !rm -rf bangumi-takeout-py\n",
        "    !touch no_gui\n",
        "\n",
        "    import fetch\n",
        "    import generate\n",
        "\n",
        "    if select.value == \"Bangumi Archive\":\n",
        "      print(\"downloading archive data\")\n",
        "      wget_result = !wget https://github.com/bangumi/Archive/releases/download/archive/dump.zip\n",
        "      unzip_result = !unzip dump.zip\n",
        "\n",
        "    with open(\".bgm_token\",\"w\",encoding=\"u8\") as f:\n",
        "      tokens = {\"access_token\": text.value}\n",
        "      json.dump(tokens, f)\n",
        "    \n",
        "    fetch.main()\n",
        "    files.download('takeout.json') \n",
        "    generate.main()\n",
        "    files.download('takeout.html') \n",
        "\n",
        "button.on_click(callback)"
      ],
      "metadata": {
        "id": "rgbnm3AlQivM"
      },
      "execution_count": null,
      "outputs": []
    }
  ]
}