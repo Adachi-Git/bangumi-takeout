{
  "cells": [
    {
      "cell_type": "markdown",
      "metadata": {
        "id": "fcnBDMVgWGor"
      },
      "source": [
        "# Bangumi Takeout\n",
        "\n",
        "项目主页：[jerrylususu/bangmui-takeout-py](https://github.com/jerrylususu/bangumi-takeout-py)\n",
        "\n",
        "## 运行步骤\n",
        "\n",
        "1. 请点击菜单栏「代码执行程序 - 全部运行」（繁體中文「執行階段－全部執行」）\n",
        "2. 卷动到页面底部，点击认证链接并选择「允许」，将下一个页面中的 `access_token` 复制到页面底部的表单中 Token 填写处\n",
        "3. 选择数据源，具体请参见项目主页，如无特殊要求保持默认即可\n",
        "4. 如果有之前导出的 `takeout.json` 文件，可点击「Upload」上传，此时会采用增量方式更新收视进度，能极大提升导出速度。如无可忽略。\n",
        "5. 选择导出格式：`json`, `html`，`csv`\n",
        "5. 最后点击「Run」以启动导出过程\n",
        "\n",
        "## 常见问题\n",
        "\n",
        "表单可能需要稍等一会才会显示（需要等待运行时分配，进度会在右上角显示），请耐心等待，最长应该不会超过一分钟。\n",
        "\n",
        "如无特殊需求，数据源建议保持默认的「Bangumi Archive」以减小对服务器的压力。关于两个数据源之间的差异，请参见本项目主页的「数据源」一节。\n",
        "\n",
        "如果选择上传此前的 `takeout.json`，上传过程中没有进度显示，需要稍等一会。也可以用 Colab 界面左侧的文件面板上传。\n",
        "\n",
        "执行完成后会自动触发 `takeout.json`, `takeout.html` 或 `takeout.csv` 的下载，也可以从左侧文件侧边栏（最后一个图标）中手动下载。如果浏览器提示「下载多个文件」，请选择允许。"
      ]
    },
    {
      "cell_type": "code",
      "execution_count": 1,
      "metadata": {
        "id": "rgbnm3AlQivM"
      },
      "outputs": [],
      "source": [
        "from ipywidgets import interact, widgets\n",
        "from IPython.display import display\n",
        "import json\n",
        "from google.colab import files\n",
        "\n",
        "token_html = widgets.HTML(value='<a href=\"https://api.bgm.tv/v0/oauth/redirect\" target=\"_blank\">Click here to generate access_token.</a>')\n",
        "display(token_html)\n",
        "\n",
        "text = widgets.Text(value='',placeholder='Paste access_token here!',description='Token:',disabled=False)\n",
        "display(text)\n",
        "\n",
        "select = widgets.Dropdown(options=['Bangumi API', 'Bangumi Archive'],value='Bangumi Archive',description='Source:',disabled=False,)\n",
        "display(select)\n",
        "\n",
        "existing_upload = widgets.FileUpload(accept='.json',multiple=False)\n",
        "display(existing_upload)\n",
        "\n",
        "checkbox_as_json = widgets.Checkbox(value=True, description='JSON', indent=True)\n",
        "display(checkbox_as_json)\n",
        "checkbox_as_html = widgets.Checkbox(value=True, description='HTML', indent=True)\n",
        "display(checkbox_as_html)\n",
        "checkbox_as_csv = widgets.Checkbox(value=True, description='CSV', indent=True)\n",
        "display(checkbox_as_csv)\n",
        "\n",
        "\n",
        "button = widgets.Button(tooltip='Run',description=\"Run\")\n",
        "display(button)\n",
        "\n",
        "def callback(wdgt):\n",
        "    print(\"uploading... may take a while...\")\n",
        "    with open(\"takeout.json\", \"wb\") as fp:\n",
        "      for k, v in existing_upload.value.items():\n",
        "        fp.write(v[\"content\"])\n",
        "        break\n",
        "    print(\"upload finished!\")\n",
        "\n",
        "    !git clone https://github.com/jerrylususu/bangumi-takeout-py\n",
        "    !pip install requests tqdm\n",
        "    !mv bangumi-takeout-py/* .\n",
        "    !rm -rf bangumi-takeout-py\n",
        "    !touch no_gui\n",
        "\n",
        "    import fetch\n",
        "    import generate_html\n",
        "    import generate_csv\n",
        "\n",
        "    if select.value == \"Bangumi Archive\":\n",
        "      print(\"downloading archive data\")\n",
        "      wget_result = !wget https://github.com/bangumi/Archive/releases/download/archive/dump.zip\n",
        "      unzip_result = !unzip dump.zip\n",
        "\n",
        "    with open(\".bgm_token\",\"w\",encoding=\"u8\") as f:\n",
        "      tokens = {\"access_token\": text.value}\n",
        "      json.dump(tokens, f)\n",
        "    \n",
        "    fetch.main()\n",
        "    if checkbox_as_json.value:\n",
        "      files.download('takeout.json')\n",
        "\n",
        "    if checkbox_as_html.value:\n",
        "      generate_html.main()\n",
        "      files.download('takeout.html') \n",
        "\n",
        "    if checkbox_as_csv.value:\n",
        "      generate_csv.main()\n",
        "      files.download('takeout.csv')\n",
        "\n",
        "button.on_click(callback)"
      ]
    },
    {
      "cell_type": "code",
      "execution_count": null,
      "metadata": {
        "id": "xiRKLf5YaChC"
      },
      "outputs": [],
      "source": []
    }
  ],
  "metadata": {
    "colab": {
      "collapsed_sections": [],
      "name": "bangumi-takeout.ipynb",
      "provenance": []
    },
    "kernelspec": {
      "display_name": "Python 3",
      "name": "python3"
    },
    "language_info": {
      "name": "python"
    }
  },
  "nbformat": 4,
  "nbformat_minor": 0
}
